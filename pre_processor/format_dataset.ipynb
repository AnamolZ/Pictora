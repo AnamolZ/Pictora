{
 "cells": [
  {
   "cell_type": "code",
   "execution_count": null,
   "metadata": {},
   "outputs": [],
   "source": [
    "import json\n",
    "import os\n",
    "import shutil"
   ]
  },
  {
   "cell_type": "code",
   "execution_count": null,
   "metadata": {},
   "outputs": [],
   "source": [
    "def format_dataset(json_files, img_dirs, output_dir):\n",
    "    os.makedirs(output_dir, exist_ok=True)\n",
    "    img_dir = os.path.join(output_dir, \"Images\")\n",
    "    os.makedirs(img_dir, exist_ok=True)\n",
    "    captions_file = os.path.join(output_dir, \"captions.txt\")\n",
    "    \n",
    "    with open(captions_file, 'w') as f:\n",
    "        for json_file, img_dir in zip(json_files, img_dirs):\n",
    "            with open(json_file, 'r') as jf:\n",
    "                captions = json.load(jf)\n",
    "            for img, caption in captions.items():\n",
    "                src = os.path.join(img_dir, img)\n",
    "                dest = os.path.join(img_dir, img)\n",
    "                if os.path.exists(src):\n",
    "                    shutil.copy(src, dest)\n",
    "                f.write(f\"{img},{caption}\\n\")"
   ]
  },
  {
   "cell_type": "code",
   "execution_count": null,
   "metadata": {},
   "outputs": [],
   "source": [
    "base_dir = \"Dataset\"\n",
    "output_dir = \"Pictora_Dataset\""
   ]
  },
  {
   "cell_type": "code",
   "execution_count": null,
   "metadata": {},
   "outputs": [],
   "source": [
    "json_files = [\n",
    "    os.path.join(base_dir, \"{high_score_pseudo_caption_train}\"),\n",
    "    os.path.join(base_dir, \"{high_score_pseudo_caption_val}\")\n",
    "]\n",
    "\n",
    "img_dirs = [\n",
    "    os.path.join(base_dir, \"{train_images}\"),\n",
    "    os.path.join(base_dir, \"{validation_images}\")\n",
    "]"
   ]
  },
  {
   "cell_type": "code",
   "execution_count": null,
   "metadata": {},
   "outputs": [],
   "source": [
    "format_dataset(json_files, img_dirs, output_dir)"
   ]
  }
 ],
 "metadata": {
  "language_info": {
   "name": "python"
  }
 },
 "nbformat": 4,
 "nbformat_minor": 2
}
