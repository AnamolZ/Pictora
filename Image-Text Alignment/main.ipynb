{
 "cells": [
  {
   "cell_type": "code",
   "execution_count": 1,
   "metadata": {},
   "outputs": [],
   "source": [
    "import os\n",
    "import json\n",
    "import random\n",
    "from PIL import Image\n",
    "import torch\n",
    "import torch.nn as nn\n",
    "import torch.optim as optim\n",
    "from torchvision import transforms, models\n",
    "from transformers import BertTokenizer, BertModel\n",
    "from torch.utils.data import Dataset, DataLoader\n",
    "from tqdm import tqdm"
   ]
  },
  {
   "cell_type": "code",
   "execution_count": 2,
   "metadata": {},
   "outputs": [],
   "source": [
    "import warnings\n",
    "warnings.filterwarnings(\"ignore\")"
   ]
  },
  {
   "cell_type": "code",
   "execution_count": 3,
   "metadata": {},
   "outputs": [],
   "source": [
    "image_transform = transforms.Compose([\n",
    "    transforms.Resize((224, 224)),\n",
    "    transforms.RandomHorizontalFlip(),\n",
    "    transforms.RandomRotation(10),\n",
    "    transforms.ToTensor(),\n",
    "    transforms.Normalize(mean=[0.485, 0.456, 0.406], std=[0.229, 0.224, 0.225])\n",
    "])"
   ]
  },
  {
   "cell_type": "code",
   "execution_count": 4,
   "metadata": {},
   "outputs": [],
   "source": [
    "def preprocess_text(text):\n",
    "    tokens = text.lower().split()\n",
    "    tokens = [word for word in tokens if word.isalpha()]\n",
    "    return ' '.join(tokens)"
   ]
  },
  {
   "cell_type": "code",
   "execution_count": 5,
   "metadata": {},
   "outputs": [],
   "source": [
    "with open('data/captions.json', 'r') as f:\n",
    "    captions_data = json.load(f)"
   ]
  },
  {
   "cell_type": "code",
   "execution_count": 6,
   "metadata": {},
   "outputs": [],
   "source": [
    "processed_captions = []\n",
    "for item in captions_data:\n",
    "    if 'captions' not in item or 'file_name' not in item:\n",
    "        continue\n",
    "    captions = item['captions']\n",
    "    longest_caption = max(captions, key=len)\n",
    "    processed_captions.append({\n",
    "        \"image_id\": item.get(\"image_id\", \"unknown\"),\n",
    "        \"file_name\": item[\"file_name\"],\n",
    "        \"caption\": preprocess_text(longest_caption)\n",
    "    })"
   ]
  },
  {
   "cell_type": "code",
   "execution_count": 7,
   "metadata": {},
   "outputs": [],
   "source": [
    "positive_pairs = []\n",
    "negative_pairs = []"
   ]
  },
  {
   "cell_type": "code",
   "execution_count": 8,
   "metadata": {},
   "outputs": [],
   "source": [
    "random.shuffle(processed_captions)"
   ]
  },
  {
   "cell_type": "code",
   "execution_count": 9,
   "metadata": {},
   "outputs": [],
   "source": [
    "for i, item in enumerate(processed_captions):\n",
    "    image_file = item['file_name']\n",
    "    caption = item['caption']\n",
    "    \n",
    "    positive_pairs.append({\"file_name\": image_file, \"caption\": caption})\n",
    "    \n",
    "    while True:\n",
    "        random_item = random.choice(processed_captions)\n",
    "        if random_item['file_name'] != image_file:\n",
    "            negative_pairs.append({\"file_name\": image_file, \"caption\": random_item['caption']})\n",
    "            break"
   ]
  },
  {
   "cell_type": "code",
   "execution_count": 10,
   "metadata": {},
   "outputs": [],
   "source": [
    "min_length = min(len(positive_pairs), len(negative_pairs))\n",
    "positive_pairs = positive_pairs[:min_length]\n",
    "negative_pairs = negative_pairs[:min_length]"
   ]
  },
  {
   "cell_type": "code",
   "execution_count": 11,
   "metadata": {},
   "outputs": [],
   "source": [
    "all_pairs = positive_pairs + negative_pairs"
   ]
  },
  {
   "cell_type": "code",
   "execution_count": 12,
   "metadata": {},
   "outputs": [],
   "source": [
    "random.shuffle(all_pairs)"
   ]
  },
  {
   "cell_type": "code",
   "execution_count": 13,
   "metadata": {},
   "outputs": [],
   "source": [
    "with open('data/preprocessed/processed_caption.json', 'w') as f:\n",
    "    json.dump(all_pairs, f, indent=4)\n",
    "\n",
    "with open('data/preprocessed/processed_caption.json', 'r') as f:\n",
    "    all_pairs = json.load(f)"
   ]
  },
  {
   "cell_type": "code",
   "execution_count": 14,
   "metadata": {},
   "outputs": [],
   "source": [
    "validated_pairs = []\n",
    "for pair in all_pairs:\n",
    "    if 'file_name' in pair and 'caption' in pair:\n",
    "        validated_pairs.append(pair)\n",
    "\n",
    "all_pairs = validated_pairs"
   ]
  },
  {
   "cell_type": "code",
   "execution_count": 15,
   "metadata": {},
   "outputs": [],
   "source": [
    "preprocessed_image_dir = 'data/preprocessed/images'\n",
    "os.makedirs(preprocessed_image_dir, exist_ok=True)"
   ]
  },
  {
   "cell_type": "code",
   "execution_count": 16,
   "metadata": {},
   "outputs": [],
   "source": [
    "for pair in all_pairs:\n",
    "    image_file = pair['file_name']\n",
    "    image_path = os.path.join('data/images', image_file)\n",
    "    preprocessed_image_path = os.path.join(preprocessed_image_dir, image_file.replace('.jpg', '.pt'))\n",
    "    \n",
    "    if not os.path.exists(preprocessed_image_path):\n",
    "        try:\n",
    "            image = Image.open(image_path).convert('RGB')\n",
    "            preprocessed_image = image_transform(image)\n",
    "            torch.save(preprocessed_image, preprocessed_image_path)\n",
    "        except Exception as e:\n",
    "            pass"
   ]
  },
  {
   "cell_type": "code",
   "execution_count": 17,
   "metadata": {},
   "outputs": [],
   "source": [
    "class ImageCaptionDataset(Dataset):\n",
    "    def __init__(self, pairs, preprocessed_image_dir, tokenizer=None):\n",
    "        self.pairs = pairs\n",
    "        self.preprocessed_image_dir = preprocessed_image_dir\n",
    "        self.tokenizer = tokenizer\n",
    "\n",
    "    def __len__(self):\n",
    "        return len(self.pairs)\n",
    "\n",
    "    def __getitem__(self, idx):\n",
    "        pair = self.pairs[idx]\n",
    "        image_file = pair['file_name']\n",
    "        caption = pair['caption']\n",
    "\n",
    "        preprocessed_image_path = os.path.join(self.preprocessed_image_dir, image_file.replace('.jpg', '.pt'))\n",
    "        image = torch.load(preprocessed_image_path, weights_only=True)\n",
    "\n",
    "        if self.tokenizer:\n",
    "            tokenized = self.tokenizer(\n",
    "                caption,\n",
    "                return_tensors='pt',\n",
    "                padding='max_length',\n",
    "                truncation=True,\n",
    "                max_length=32\n",
    "            )\n",
    "            caption = tokenized['input_ids'].squeeze(0)\n",
    "            attention_mask = tokenized['attention_mask'].squeeze(0)\n",
    "            return image, caption, attention_mask\n",
    "\n",
    "        return image, caption"
   ]
  },
  {
   "cell_type": "code",
   "execution_count": 18,
   "metadata": {},
   "outputs": [],
   "source": [
    "class VisionEncoder(nn.Module):\n",
    "    def __init__(self, backbone='resnet50'):\n",
    "        super(VisionEncoder, self).__init__()\n",
    "        if backbone == 'resnet50':\n",
    "            resnet = models.resnet50(weights=models.ResNet50_Weights.IMAGENET1K_V1)\n",
    "            self.encoder = nn.Sequential(*list(resnet.children())[:-1])\n",
    "        elif backbone == 'vit':\n",
    "            from transformers import ViTModel\n",
    "            self.encoder = ViTModel.from_pretrained('google/vit-base-patch16-224')\n",
    "\n",
    "    def forward(self, x):\n",
    "        features = self.encoder(x)\n",
    "        if isinstance(features, dict):\n",
    "            features = features['last_hidden_state'][:, 0]\n",
    "        else:\n",
    "            features = features.squeeze(-1).squeeze(-1)\n",
    "        return features"
   ]
  },
  {
   "cell_type": "code",
   "execution_count": 19,
   "metadata": {},
   "outputs": [],
   "source": [
    "class TextEncoder(nn.Module):\n",
    "    def __init__(self):\n",
    "        super(TextEncoder, self).__init__()\n",
    "        self.bert = BertModel.from_pretrained('bert-base-uncased')\n",
    "\n",
    "    def forward(self, x, attention_mask):\n",
    "        outputs = self.bert(x, attention_mask=attention_mask)\n",
    "        return outputs.last_hidden_state[:, 0]"
   ]
  },
  {
   "cell_type": "code",
   "execution_count": 20,
   "metadata": {},
   "outputs": [],
   "source": [
    "class ProjectionHead(nn.Module):\n",
    "    def __init__(self, input_dim, output_dim=512):\n",
    "        super(ProjectionHead, self).__init__()\n",
    "        self.projection = nn.Linear(input_dim, output_dim)\n",
    "\n",
    "    def forward(self, x):\n",
    "        return self.projection(x)"
   ]
  },
  {
   "cell_type": "code",
   "execution_count": 21,
   "metadata": {},
   "outputs": [],
   "source": [
    "class ContrastiveLoss(nn.Module):\n",
    "    def __init__(self, temperature=0.07):\n",
    "        super(ContrastiveLoss, self).__init__()\n",
    "        self.temperature = temperature\n",
    "\n",
    "    def forward(self, image_features, text_features):\n",
    "        logits = torch.matmul(image_features, text_features.T) / self.temperature\n",
    "        labels = torch.arange(logits.size(0)).to(logits.device)\n",
    "        loss_i = nn.CrossEntropyLoss()(logits, labels)\n",
    "        loss_t = nn.CrossEntropyLoss()(logits.T, labels)\n",
    "        return (loss_i + loss_t) / 2"
   ]
  },
  {
   "cell_type": "code",
   "execution_count": 22,
   "metadata": {},
   "outputs": [],
   "source": [
    "def train_model(dataset, vision_encoder, text_encoder, projection_head_vision, projection_head_text, loss_fn, optimizer, epochs=10, batch_size=32, patience=3):\n",
    "    dataloader = DataLoader(dataset, batch_size=batch_size, shuffle=True, collate_fn=lambda x: x)\n",
    "    device = torch.device('cuda' if torch.cuda.is_available() else 'cpu')\n",
    "    vision_encoder.to(device)\n",
    "    text_encoder.to(device)\n",
    "    projection_head_vision.to(device)\n",
    "    projection_head_text.to(device)\n",
    "    loss_fn.to(device)\n",
    "\n",
    "    best_loss = float('inf')\n",
    "    patience_counter = 0\n",
    "    os.makedirs('models/vision', exist_ok=True)\n",
    "    os.makedirs('models/text', exist_ok=True)\n",
    "\n",
    "    for epoch in range(epochs):\n",
    "        vision_encoder.train()\n",
    "        text_encoder.train()\n",
    "        projection_head_vision.train()\n",
    "        projection_head_text.train()\n",
    "        total_loss = 0\n",
    "\n",
    "        for batch in tqdm(dataloader, desc=f\"Epoch {epoch+1}/{epochs}\", leave=False):\n",
    "            images, captions, attention_masks = zip(*batch)\n",
    "            images = torch.stack(images).to(device)\n",
    "            captions = torch.stack(captions).to(device)\n",
    "            attention_masks = torch.stack(attention_masks).to(device)\n",
    "\n",
    "            image_features = vision_encoder(images)\n",
    "            text_features = text_encoder(captions, attention_mask=attention_masks)\n",
    "\n",
    "            image_features = projection_head_vision(image_features)\n",
    "            text_features = projection_head_text(text_features)\n",
    "\n",
    "            loss = loss_fn(image_features, text_features)\n",
    "\n",
    "            optimizer.zero_grad()\n",
    "            loss.backward()\n",
    "            optimizer.step()\n",
    "\n",
    "            total_loss += loss.item()\n",
    "\n",
    "        avg_loss = total_loss / len(dataloader)\n",
    "\n",
    "        if avg_loss < best_loss:\n",
    "            best_loss = avg_loss\n",
    "            patience_counter = 0\n",
    "            torch.save(vision_encoder.state_dict(), 'models/vision/vision_encoder_best.pth')\n",
    "            torch.save(text_encoder.state_dict(), 'models/text/text_encoder_best.pth')\n",
    "            torch.save(projection_head_vision.state_dict(), 'models/vision/projection_head.pth')\n",
    "            torch.save(projection_head_text.state_dict(), 'models/text/projection_head.pth')\n",
    "        else:\n",
    "            patience_counter += 1\n",
    "            if patience_counter >= patience:\n",
    "                break"
   ]
  },
  {
   "cell_type": "code",
   "execution_count": 23,
   "metadata": {},
   "outputs": [
    {
     "name": "stderr",
     "output_type": "stream",
     "text": [
      "                                                            \r"
     ]
    }
   ],
   "source": [
    "if __name__ == \"__main__\":\n",
    "    with open('data/preprocessed/processed_caption.json', 'r') as f:\n",
    "        all_pairs = json.load(f)\n",
    "\n",
    "    validated_pairs = []\n",
    "    for pair in all_pairs:\n",
    "        if 'file_name' in pair and 'caption' in pair:\n",
    "            validated_pairs.append(pair)\n",
    "\n",
    "    tokenizer = BertTokenizer.from_pretrained('bert-base-uncased')\n",
    "\n",
    "    dataset = ImageCaptionDataset(\n",
    "        validated_pairs,\n",
    "        preprocessed_image_dir='data/preprocessed/images',\n",
    "        tokenizer=tokenizer\n",
    "    )\n",
    "\n",
    "    vision_encoder = VisionEncoder(backbone='resnet50')\n",
    "    text_encoder = TextEncoder()\n",
    "\n",
    "    projection_head_vision = ProjectionHead(input_dim=2048)\n",
    "    projection_head_text = ProjectionHead(input_dim=768)\n",
    "\n",
    "    loss_fn = ContrastiveLoss()\n",
    "    optimizer = optim.Adam(\n",
    "        list(vision_encoder.parameters()) +\n",
    "        list(text_encoder.parameters()) +\n",
    "        list(projection_head_vision.parameters()) +\n",
    "        list(projection_head_text.parameters()),\n",
    "        lr=1e-4\n",
    "    )\n",
    "\n",
    "    train_model(\n",
    "        dataset,\n",
    "        vision_encoder,\n",
    "        text_encoder,\n",
    "        projection_head_vision,\n",
    "        projection_head_text,\n",
    "        loss_fn,\n",
    "        optimizer,\n",
    "        epochs=20,\n",
    "        batch_size=32,\n",
    "        patience=3\n",
    "    )"
   ]
  },
  {
   "cell_type": "code",
   "execution_count": 24,
   "metadata": {},
   "outputs": [
    {
     "name": "stderr",
     "output_type": "stream",
     "text": [
      "Using cache found in C:\\Users\\anmol/.cache\\torch\\hub\\pytorch_vision_v0.10.0\n"
     ]
    },
    {
     "name": "stdout",
     "output_type": "stream",
     "text": [
      "Similarity Scores:\n",
      "Caption: A couple of items that are on the wall. -> Similarity: -0.0414\n",
      "Caption: A beautiful woman stirring a pot of cooking food with a spoon. -> Similarity: -0.0439\n",
      "Caption: A person riding skis across snow covered ground. -> Similarity: 0.0258\n",
      "Caption: There is a tall clock tower called big ben. -> Similarity: -0.0020\n",
      "Caption: Young female child playing tennis on outdoor court. -> Similarity: 0.0576\n"
     ]
    },
    {
     "data": {
      "image/png": "[encoded data removed]",
      "text/plain": [
       "<Figure size 1000x800 with 1 Axes>"
      ]
     },
     "metadata": {},
     "output_type": "display_data"
    },
    {
     "name": "stdout",
     "output_type": "stream",
     "text": [
      "\n",
      "Best matching caption: Young female child playing tennis on outdoor court.\n"
     ]
    }
   ],
   "source": [
    "\n",
    "import os\n",
    "import torch\n",
    "import torch.nn.functional as F\n",
    "from PIL import Image\n",
    "from torchvision import transforms\n",
    "from transformers import BertTokenizer, BertModel\n",
    "from tqdm import tqdm\n",
    "import matplotlib.pyplot as plt\n",
    "from sklearn.decomposition import PCA\n",
    "\n",
    "class VisionEncoder(torch.nn.Module):\n",
    "    def __init__(self, backbone='resnet50'):\n",
    "        super(VisionEncoder, self).__init__()\n",
    "        if backbone == 'resnet50':\n",
    "            resnet = torch.hub.load('pytorch/vision:v0.10.0', 'resnet50', weights='ResNet50_Weights.IMAGENET1K_V1')\n",
    "            self.encoder = torch.nn.Sequential(*list(resnet.children())[:-1])\n",
    "\n",
    "    def forward(self, x):\n",
    "        features = self.encoder(x)\n",
    "        return features.squeeze(-1).squeeze(-1)\n",
    "\n",
    "class TextEncoder(torch.nn.Module):\n",
    "    def __init__(self):\n",
    "        super(TextEncoder, self).__init__()\n",
    "        self.bert = BertModel.from_pretrained('bert-base-uncased')\n",
    "\n",
    "    def forward(self, x, attention_mask):\n",
    "        outputs = self.bert(x, attention_mask=attention_mask)\n",
    "        return outputs.last_hidden_state[:, 0]\n",
    "\n",
    "class ProjectionHead(torch.nn.Module):\n",
    "    def __init__(self, input_dim, output_dim=512):\n",
    "        super(ProjectionHead, self).__init__()\n",
    "        self.projection = torch.nn.Linear(input_dim, output_dim)\n",
    "\n",
    "    def forward(self, x):\n",
    "        return self.projection(x)\n",
    "\n",
    "def load_models():\n",
    "    vision_encoder = VisionEncoder(backbone='resnet50')\n",
    "    text_encoder = TextEncoder()\n",
    "    projection_head_vision = ProjectionHead(input_dim=2048)\n",
    "    projection_head_text = ProjectionHead(input_dim=768)\n",
    "    vision_encoder.load_state_dict(torch.load('models/vision/vision_encoder_best.pth'))\n",
    "    text_encoder.load_state_dict(torch.load('models/text/text_encoder_best.pth'))\n",
    "    projection_head_vision.load_state_dict(torch.load('models/vision/projection_head.pth'))\n",
    "    projection_head_text.load_state_dict(torch.load('models/text/projection_head.pth'))\n",
    "    vision_encoder.eval()\n",
    "    text_encoder.eval()\n",
    "    projection_head_vision.eval()\n",
    "    projection_head_text.eval()\n",
    "    return vision_encoder, text_encoder, projection_head_vision, projection_head_text\n",
    "\n",
    "def preprocess_image(image_path):\n",
    "    transform = transforms.Compose([\n",
    "        transforms.Resize((224, 224)),\n",
    "        transforms.ToTensor(),\n",
    "        transforms.Normalize(mean=[0.485, 0.456, 0.406], std=[0.229, 0.224, 0.225])\n",
    "    ])\n",
    "    image = Image.open(image_path).convert('RGB')\n",
    "    return transform(image).unsqueeze(0)\n",
    "\n",
    "def tokenize_captions(captions, tokenizer, max_length=32):\n",
    "    tokenized = tokenizer(\n",
    "        captions,\n",
    "        return_tensors='pt',\n",
    "        padding='max_length',\n",
    "        truncation=True,\n",
    "        max_length=max_length\n",
    "    )\n",
    "    return tokenized['input_ids'], tokenized['attention_mask']\n",
    "\n",
    "def compute_similarity(image_embedding, caption_embeddings):\n",
    "    image_embedding = F.normalize(image_embedding, p=2, dim=-1)\n",
    "    caption_embeddings = F.normalize(caption_embeddings, p=2, dim=-1)\n",
    "    similarities = torch.matmul(image_embedding, caption_embeddings.T)\n",
    "    return similarities.squeeze()\n",
    "\n",
    "def visualize_embeddings(image_embeddings, caption_embeddings, captions):\n",
    "    embeddings = torch.cat([image_embeddings, caption_embeddings], dim=0).detach().cpu().numpy()\n",
    "    labels = [\"Image\"] + captions\n",
    "    pca = PCA(n_components=2, random_state=42)\n",
    "    reduced_embeddings = pca.fit_transform(embeddings)\n",
    "    plt.figure(figsize=(10, 8))\n",
    "    for i, label in enumerate(labels):\n",
    "        x, y = reduced_embeddings[i]\n",
    "        plt.scatter(x, y, label=label)\n",
    "        plt.text(x, y, label, fontsize=9)\n",
    "    plt.legend()\n",
    "    plt.title(\"PCA Visualization of Embeddings\")\n",
    "    plt.show()\n",
    "\n",
    "def test_model(image_path, captions):\n",
    "    vision_encoder, text_encoder, projection_head_vision, projection_head_text = load_models()\n",
    "    device = torch.device('cuda' if torch.cuda.is_available() else 'cpu')\n",
    "    vision_encoder.to(device)\n",
    "    text_encoder.to(device)\n",
    "    projection_head_vision.to(device)\n",
    "    projection_head_text.to(device)\n",
    "    image = preprocess_image(image_path).to(device)\n",
    "    tokenizer = BertTokenizer.from_pretrained('bert-base-uncased')\n",
    "    input_ids, attention_mask = tokenize_captions(captions, tokenizer)\n",
    "    input_ids = input_ids.to(device)\n",
    "    attention_mask = attention_mask.to(device)\n",
    "    with torch.no_grad():\n",
    "        image_features = vision_encoder(image)\n",
    "        image_embedding = projection_head_vision(image_features)\n",
    "    with torch.no_grad():\n",
    "        text_features = text_encoder(input_ids, attention_mask=attention_mask)\n",
    "        caption_embeddings = projection_head_text(text_features)\n",
    "    similarities = compute_similarity(image_embedding, caption_embeddings)\n",
    "    print(\"Similarity Scores:\")\n",
    "    for i, caption in enumerate(captions):\n",
    "        print(f\"Caption: {caption} -> Similarity: {similarities[i].item():.4f}\")\n",
    "    visualize_embeddings(image_embedding, caption_embeddings, captions)\n",
    "    best_caption_idx = torch.argmax(similarities).item()\n",
    "    best_caption = captions[best_caption_idx]\n",
    "    print(f\"\\nBest matching caption: {best_caption}\")\n",
    "    return best_caption\n",
    "\n",
    "if __name__ == \"__main__\":\n",
    "    image_path = \"test/000000007304.jpg\"\n",
    "    captions = [\n",
    "        \"A couple of items that are on the wall.\",\n",
    "        \"A beautiful woman stirring a pot of cooking food with a spoon.\",\n",
    "        \"A person riding skis across snow covered ground.\",\n",
    "        \"There is a tall clock tower called big ben.\",\n",
    "        \"Young female child playing tennis on outdoor court.\"\n",
    "    ]\n",
    "    test_model(image_path, captions)\n"
   ]
  },
  {
   "cell_type": "code",
   "execution_count": null,
   "metadata": {},
   "outputs": [],
   "source": []
  }
 ],
 "metadata": {
  "kernelspec": {
   "display_name": "SSL",
   "language": "python",
   "name": "python3"
  },
  "language_info": {
   "codemirror_mode": {
    "name": "ipython",
    "version": 3
   },
   "file_extension": ".py",
   "mimetype": "text/x-python",
   "name": "python",
   "nbconvert_exporter": "python",
   "pygments_lexer": "ipython3",
   "version": "3.9.21"
  }
 },
 "nbformat": 4,
 "nbformat_minor": 2
}
