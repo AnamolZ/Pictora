{
 "cells": [
  {
   "cell_type": "code",
   "execution_count": null,
   "metadata": {},
   "outputs": [],
   "source": [
    "train_caption_path='D:/Anamol Production Project/Pictora_Dataset/train/train_caption/high_score_pseudo_caption_train.json'\n",
    "val_caption_path='D:/Anamol Production Project/Pictora_Dataset/validation/validation_caption/high_score_pseudo_caption_val.json'\n",
    "train_image_dir='D:/Anamol Production Project/Pictora_Dataset/train/train_images'\n",
    "val_image_dir='D:/Anamol Production Project/Pictora_Dataset/validation/validation_images'"
   ]
  },
  {
   "cell_type": "code",
   "execution_count": null,
   "metadata": {},
   "outputs": [],
   "source": [
    "import json\n",
    "import os\n",
    "import shutil\n",
    "\n",
    "def convert_to_flickr_format(json_paths, image_srcs, output_dir):\n",
    "    os.makedirs(output_dir, exist_ok=True)\n",
    "    images_dir = os.path.join(output_dir, \"Images\")\n",
    "    os.makedirs(images_dir, exist_ok=True)\n",
    "    captions_txt = os.path.join(output_dir, \"captions.txt\")\n",
    "    \n",
    "    with open(captions_txt, 'w') as f:\n",
    "        for json_path, image_src in zip(json_paths, image_srcs):\n",
    "            with open(json_path, 'r') as jf:\n",
    "                captions = json.load(jf)\n",
    "            for img, caption in captions.items():\n",
    "                src = os.path.join(image_src, img)\n",
    "                dest = os.path.join(images_dir, img)\n",
    "                if os.path.exists(src):\n",
    "                    shutil.copy(src, dest)\n",
    "                f.write(f\"{img},{caption}\\n\")\n",
    "\n",
    "base_dir = \"Pictora_Dataset\"\n",
    "flickr_dir = \"Flickr8k_Format\"\n",
    "\n",
    "json_paths = [\n",
    "    os.path.join(base_dir, \"train/train_caption/high_score_pseudo_caption_train.json\"),\n",
    "    os.path.join(base_dir, \"validation/validation_caption/high_score_pseudo_caption_val.json\")\n",
    "]\n",
    "\n",
    "image_srcs = [\n",
    "    os.path.join(base_dir, \"train/train_images\"),\n",
    "    os.path.join(base_dir, \"validation/validation_images\")\n",
    "]\n",
    "\n",
    "convert_to_flickr_format(json_paths, image_srcs, flickr_dir)\n"
   ]
  },
  {
   "cell_type": "code",
   "execution_count": null,
   "metadata": {},
   "outputs": [],
   "source": [
    "import tensorflow as tf\n",
    "\n",
    "print(\"Num GPUs Available: \", len(tf.config.experimental.list_physical_devices('GPU')))\n",
    "\n",
    "if tf.test.is_gpu_available():\n",
    "    print(\"TensorFlow is using GPU.\")\n",
    "else:\n",
    "    print(\"TensorFlow is not using GPU.\")\n"
   ]
  },
  {
   "cell_type": "code",
   "execution_count": null,
   "metadata": {},
   "outputs": [],
   "source": []
  }
 ],
 "metadata": {
  "kernelspec": {
   "display_name": "dl_gpu",
   "language": "python",
   "name": "python3"
  },
  "language_info": {
   "codemirror_mode": {
    "name": "ipython",
    "version": 3
   },
   "file_extension": ".py",
   "mimetype": "text/x-python",
   "name": "python",
   "nbconvert_exporter": "python",
   "pygments_lexer": "ipython3",
   "version": "3.9.21"
  }
 },
 "nbformat": 4,
 "nbformat_minor": 2
}
